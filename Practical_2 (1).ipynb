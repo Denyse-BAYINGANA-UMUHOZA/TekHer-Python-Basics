{
 "cells": [
  {
   "cell_type": "markdown",
   "id": "d68c1dee",
   "metadata": {},
   "source": [
    "# Practical_2: String and files"
   ]
  },
  {
   "cell_type": "code",
   "execution_count": null,
   "id": "6fea6f39-e58c-40f3-8775-1f1cdea707c5",
   "metadata": {},
   "outputs": [],
   "source": []
  },
  {
   "cell_type": "markdown",
   "id": "bea983a3",
   "metadata": {},
   "source": [
    "---\n",
    "\n",
    "### Exercise 1:\n",
    "Create a string variable `text` and assign it the value `\"Python is amazing!\"`.\n",
    "\n",
    "```python\n",
    "# Exercise 1\n",
    "```\n",
    "\n",
    "---\n",
    "\n",
    "### Exercise 2:\n",
    "Find the length of the string `\"Hello, World!\"` and store it in a variable `length`.\n",
    "\n",
    "```python\n",
    "# Exercise 2\n",
    "```\n",
    "\n",
    "---\n",
    "\n",
    "### Exercise 3:\n",
    "Convert the string `\"python programming\"` to uppercase and store it in a variable `upper_text`.\n",
    "\n",
    "```python\n",
    "# Exercise 3\n",
    "```\n",
    "\n",
    "---\n",
    "\n",
    "### Exercise 4:\n",
    "Extract the first 5 characters from the string `\"Artificial Intelligence\"`.\n",
    "\n",
    "```python\n",
    "# Exercise 4\n",
    "```\n",
    "\n",
    "---\n",
    "\n",
    "### Exercise 5:\n",
    "Concatenate the strings `\"Hello\"` and `\"World\"` with a space in between.\n",
    "\n",
    "```python\n",
    "# Exercise 5\n",
    "```\n",
    "\n",
    "---\n",
    "\n",
    "### Exercise 6:\n",
    "Replace the word `\"dog\"` with `\"cat\"` in the string `\"The quick brown dog jumps over the lazy dog.\"`.\n",
    "\n",
    "```python\n",
    "# Exercise 6\n",
    "```\n",
    "\n",
    "---\n",
    "\n",
    "### Exercise 7:\n",
    "Split the string `\"apple,banana,orange\"` by commas and store the result in a list `fruits_list`.\n",
    "\n",
    "```python\n",
    "# Exercise 7\n",
    "```\n",
    "\n",
    "---\n",
    "\n",
    "### Exercise 8:\n",
    "Use string formatting to create the sentence `\"My name is Alice and I am 25 years old.\"`, where the name and age are variables.\n",
    "\n",
    "```python\n",
    "# Exercise 8\n",
    "```\n",
    "\n",
    "---\n",
    "\n",
    "### Exercise 9:\n",
    "Check if the string `\"python\"` is present in the sentence `\"I love python programming\"`.\n",
    "\n",
    "```python\n",
    "# Exercise 9\n",
    "```\n",
    "\n",
    "---\n",
    "\n",
    "### Exercise 10:\n",
    "Count the number of occurrences of the letter `\"e\"` in the string `\"Elephant is an elegant animal\"`.\n",
    "\n",
    "```python\n",
    "# Exercise 10\n",
    "```\n",
    "\n",
    "---\n",
    "\n",
    "### Exercise 11:\n",
    "Remove any leading and trailing spaces from the string `\"   Data Science   \"`.\n",
    "\n",
    "```python\n",
    "# Exercise 11\n",
    "```\n",
    "\n",
    "---\n",
    "\n",
    "### Exercise 12:\n",
    "Convert the string `\"100\"` into an integer and store it in a variable `int_value`.\n",
    "\n",
    "```python\n",
    "# Exercise 12\n",
    "```\n",
    "\n",
    "---\n",
    "\n",
    "### Exercise 13:\n",
    "Extract the substring `\"pro\"` from the string `\"programming\"`.\n",
    "\n",
    "```python\n",
    "# Exercise 13\n",
    "```\n",
    "\n",
    "---\n",
    "\n",
    "### Exercise 14:\n",
    "Check if the string `\"data\"` starts with `\"da\"` and ends with `\"ta\"`.\n",
    "\n",
    "```python\n",
    "# Exercise 14\n",
    "```\n",
    "\n",
    "---\n",
    "\n",
    "### Exercise 15:\n",
    "Reverse the string `\"machine learning\"` and store the result in `reversed_text`.\n",
    "\n",
    "```python\n",
    "# Exercise 15\n",
    "```\n",
    "\n",
    "---\n",
    "\n",
    "### Exercise 16:\n",
    "Convert the first letter of each word in the string `\"machine learning is fun\"` to uppercase.\n",
    "\n",
    "```python\n",
    "# Exercise 16\n",
    "```\n",
    "\n",
    "---\n",
    "\n",
    "### Exercise 17:\n",
    "Create a multiline string representing a poem and store it in a variable `poem`.\n",
    "\n",
    "```python\n",
    "# Exercise 17\n",
    "```\n",
    "\n",
    "---\n",
    "\n",
    "### Exercise 18:\n",
    "Write a string to a file named `\"output.txt\"`.\n",
    "\n",
    "```python\n",
    "# Exercise 18\n",
    "```\n",
    "\n",
    "---\n",
    "\n",
    "### Exercise 19:\n",
    "Read the contents of a file named `\"data.txt\"` and print it line by line.\n",
    "\n",
    "```python\n",
    "# Exercise 19\n",
    "```\n",
    "\n",
    "---\n",
    "\n",
    "### Exercise 20:\n",
    "Check if a file `\"example.txt\"` exists before opening it.\n",
    "\n",
    "```python\n",
    "# Exercise 20\n",
    "```\n",
    "\n",
    "---\n",
    "\n",
    "### Exercise 21:\n",
    "Append a new line `\"This is a new line\"` to an existing file `\"notes.txt\"`.\n",
    "\n",
    "```python\n",
    "# Exercise 21\n",
    "```\n",
    "\n",
    "---\n",
    "\n",
    "### Exercise 22:\n",
    "Read the contents of a file `\"log.txt\"` and store each line in a list `log_lines`.\n",
    "\n",
    "```python\n",
    "# Exercise 22\n",
    "```\n",
    "\n",
    "---\n",
    "\n",
    "### Exercise 23:\n",
    "Create a new file `\"report.txt\"` and write the string `\"Data analysis report\"` to it.\n",
    "\n",
    "```python\n",
    "# Exercise 23\n",
    "```\n",
    "\n",
    "---\n",
    "\n",
    "### Exercise 24:\n",
    "Replace the word `\"error\"` with `\"issue\"` in a file `\"log.txt\"`.\n",
    "\n",
    "```python\n",
    "# Exercise 24\n",
    "```\n",
    "\n",
    "---\n",
    "\n",
    "### Exercise 25:\n",
    "Count the number of words in a text file `\"document.txt\"`.\n",
    "\n",
    "```python\n",
    "# Exercise 25\n",
    "```\n",
    "\n",
    "---\n",
    "\n",
    "### Exercise 26:\n",
    "Write a Python script that reads a file `\"essay.txt\"` and prints the total number of lines, words, and characters.\n",
    "\n",
    "```python\n",
    "# Exercise 26\n",
    "```\n",
    "\n",
    "---\n",
    "\n",
    "### Exercise 27:\n",
    "Copy the contents of one file `\"source.txt\"` to another file `\"destination.txt\"`.\n",
    "\n",
    "```python\n",
    "# Exercise 27\n",
    "```\n",
    "\n",
    "---\n",
    "\n",
    "### Exercise 28:\n",
    "Write a Python function that takes a filename as input and returns the number of lines in the file.\n",
    "\n",
    "```python\n",
    "# Exercise 28\n",
    "```\n",
    "\n",
    "---\n",
    "\n",
    "### Exercise 29:\n",
    "Extract all the words from a text file `\"article.txt\"` that contain more than 5 characters.\n",
    "\n",
    "```python\n",
    "# Exercise 29\n",
    "```\n",
    "\n",
    "---\n",
    "\n",
    "### Exercise 30:\n",
    "Convert the contents of a file `\"notes.txt\"` to uppercase and save the result in another file `\"uppercase_notes.txt\"`.\n",
    "\n",
    "```python\n",
    "# Exercise 30\n",
    "```\n",
    "\n",
    "---\n",
    "\n",
    "### Exercise 31:\n",
    "Write a Python script that reads a file and removes all empty lines.\n",
    "\n",
    "```python\n",
    "# Exercise 31\n",
    "```\n",
    "\n",
    "---\n",
    "\n",
    "### Exercise 32:\n",
    "Open a file `\"config.txt\"` in both read and write mode.\n",
    "\n",
    "```python\n",
    "# Exercise 32\n",
    "```\n",
    "\n",
    "---\n",
    "\n",
    "### Exercise 33:\n",
    "Write a Python function that reads a file and prints the longest line in the file.\n",
    "\n",
    "```python\n",
    "# Exercise 33\n",
    "```\n",
    "\n",
    "---\n",
    "\n",
    "### Exercise 34:\n",
    "Write a Python script to count the frequency of each letter in a text file `\"message.txt\"`.\n",
    "\n",
    "```python\n",
    "# Exercise 34\n",
    "```\n",
    "\n",
    "---\n",
    "\n",
    "### Exercise 35:\n",
    "Write a Python script that reads a file and prints the total number of characters, excluding spaces.\n",
    "\n",
    "```python\n",
    "# Exercise 35\n",
    "```\n",
    "\n",
    "---\n",
    "\n",
    "### Exercise 36:\n",
    "Create a Python script to check whether a file is empty or not.\n",
    "\n",
    "```python\n",
    "# Exercise 36\n",
    "```\n",
    "\n",
    "---\n",
    "\n",
    "### Exercise 37:\n",
    "Write a Python function that reads a file and removes all punctuation marks from the text.\n",
    "\n",
    "```python\n",
    "# Exercise 37\n",
    "```\n",
    "\n",
    "---\n",
    "\n",
    "### Exercise 38:\n",
    "Create a Python function that writes a list of strings to a file, each string on a new line.\n",
    "\n",
    "```python\n",
    "# Exercise 38\n",
    "```\n",
    "\n",
    "---\n",
    "\n",
    "### Exercise 39:\n",
    "Write a Python script to count the number of lines that start with a specific letter (e.g., \"A\") in a text file.\n",
    "\n",
    "```python\n",
    "# Exercise 39\n",
    "```\n",
    "\n",
    "---\n",
    "\n",
    "### Exercise 40:\n",
    "Write a Python function that takes a string as input and writes it to a file `\"output.txt\"` in reverse order.\n",
    "\n",
    "```python\n",
    "# Exercise 40\n",
    "```\n",
    "\n",
    "---\n",
    "\n",
    "### Exercise 41:\n",
    "Write a Python script that reads a file and prints all the lines that contain the word `\"Python\"`.\n",
    "\n",
    "```python\n",
    "# Exercise 41\n",
    "```\n",
    "\n",
    "---\n",
    "\n",
    "### Exercise 42:\n",
    "Write a Python script that opens a file and removes all numeric digits from the file's content.\n",
    "\n",
    "```python\n",
    "# Exercise 42\n",
    "```\n",
    "\n",
    "---\n",
    "\n",
    "### Exercise 43:\n",
    "Write a Python script to find the most frequent word in a text file `\"book.txt\"`.\n",
    "\n",
    "```python\n",
    "# Exercise 43\n",
    "```\n",
    "\n",
    "---\n",
    "\n",
    "### Exercise 44:\n",
    "Write a Python script that reads a file and prints all the lines that contain exactly 5 words.\n",
    "\n",
    "```python\n",
    "# Exercise 44\n",
    "```\n",
    "\n",
    "---\n",
    "\n",
    "### Exercise 45:\n",
    "Write a Python script to read a file and print the first and last line of the file.\n",
    "\n",
    "```python\n",
    "# Exercise 45\n",
    "```\n",
    "\n",
    "---\n",
    "\n",
    "### Exercise 46:\n",
    "Write a Python script that checks if a file `\"students.txt\"` is writable.\n",
    "\n",
    "```python\n",
    "# Exercise 46\n",
    "```\n",
    "\n",
    "---\n",
    "\n",
    "### Exercise 47:\n",
    "Create a Python function that opens a file and returns the number of unique words in the file.\n",
    "\n",
    "```python\n",
    "# Exercise 47\n",
    "```\n",
    "\n",
    "---\n",
    "\n",
    "### Exercise 48:\n",
    "Write a Python script that reads a file and prints all lines in reverse order.\n",
    "\n",
    "```python\n",
    "# Exercise 48\n",
    "```\n",
    "\n",
    "---\n",
    "\n",
    "### Exercise 49:\n",
    "Write a Python function that reads a file and returns the most common letter in the text.\n",
    "\n",
    "```python\n",
    "# Exercise 49\n",
    "```\n",
    "\n",
    "---\n",
    "\n",
    "### Exercise 50:\n",
    "Write a Python script that reads a file and replaces every occurrence of `\"Python\"` with `\"Java\"`.\n",
    "\n",
    "```python\n",
    "# Exercise 50\n",
    "```\n",
    "\n",
    "---\n",
    "\n"
   ]
  },
  {
   "cell_type": "markdown",
   "id": "4ff2226a-1c14-4205-a985-4fc4b6003f44",
   "metadata": {},
   "source": [
    "# Q1"
   ]
  },
  {
   "cell_type": "code",
   "execution_count": 3,
   "id": "e0668cda-e04a-43a8-9ccb-6f782bd2c6f9",
   "metadata": {},
   "outputs": [
    {
     "data": {
      "text/plain": [
       "'Python is amazing!'"
      ]
     },
     "execution_count": 3,
     "metadata": {},
     "output_type": "execute_result"
    }
   ],
   "source": [
    "text = \"Python is amazing!\"\n",
    "text"
   ]
  },
  {
   "cell_type": "markdown",
   "id": "27f90e20-67b7-4707-bf36-6e6a7fcb9602",
   "metadata": {},
   "source": [
    "# Q2"
   ]
  },
  {
   "cell_type": "code",
   "execution_count": 4,
   "id": "4a189d58-a2db-45ba-bb1b-216323252e88",
   "metadata": {},
   "outputs": [
    {
     "data": {
      "text/plain": [
       "13"
      ]
     },
     "execution_count": 4,
     "metadata": {},
     "output_type": "execute_result"
    }
   ],
   "source": [
    "length = len(\"Hello, World!\")\n",
    "length"
   ]
  },
  {
   "cell_type": "markdown",
   "id": "0a344cf3-ad1c-4faf-9dd0-c2555bc560c6",
   "metadata": {},
   "source": [
    "# Q3"
   ]
  },
  {
   "cell_type": "code",
   "execution_count": 8,
   "id": "ac974db9-b812-4fd7-ade1-dbbe12898924",
   "metadata": {},
   "outputs": [
    {
     "data": {
      "text/plain": [
       "'PYTHON PROGRAMMING'"
      ]
     },
     "execution_count": 8,
     "metadata": {},
     "output_type": "execute_result"
    }
   ],
   "source": [
    "upper_text = \"python programming\".upper()\n",
    "upper_text"
   ]
  },
  {
   "cell_type": "markdown",
   "id": "ec98b1cc-d4b5-46ee-8eca-3e1ff28b3930",
   "metadata": {},
   "source": [
    "# Q4"
   ]
  },
  {
   "cell_type": "code",
   "execution_count": 9,
   "id": "4b3bba03-1b04-4c3d-8c03-b5b8e7d1f5d1",
   "metadata": {},
   "outputs": [
    {
     "data": {
      "text/plain": [
       "'Artif'"
      ]
     },
     "execution_count": 9,
     "metadata": {},
     "output_type": "execute_result"
    }
   ],
   "source": [
    "first_five = \"Artificial Intelligence\"[:5]\n",
    "first_five"
   ]
  },
  {
   "cell_type": "markdown",
   "id": "2d8fdbda-2f40-43fb-aad3-ebb88a1dc8cc",
   "metadata": {},
   "source": [
    "# Q5"
   ]
  },
  {
   "cell_type": "code",
   "execution_count": 10,
   "id": "c1d32cd8-3f79-44aa-8c14-584d6d87cc34",
   "metadata": {},
   "outputs": [
    {
     "data": {
      "text/plain": [
       "'Hello World'"
      ]
     },
     "execution_count": 10,
     "metadata": {},
     "output_type": "execute_result"
    }
   ],
   "source": [
    "greeting = \"Hello\" + \" \" + \"World\"\n",
    "greeting"
   ]
  },
  {
   "cell_type": "markdown",
   "id": "b4daa349-632c-4f67-b783-118849c47b0c",
   "metadata": {},
   "source": [
    "# Q6"
   ]
  },
  {
   "cell_type": "code",
   "execution_count": 11,
   "id": "e9a5ac86-e30f-4a6f-ba29-56e5f478c278",
   "metadata": {},
   "outputs": [
    {
     "data": {
      "text/plain": [
       "'The quick brown cat jumps over the lazy cat.'"
      ]
     },
     "execution_count": 11,
     "metadata": {},
     "output_type": "execute_result"
    }
   ],
   "source": [
    "replaced_text = \"The quick brown dog jumps over the lazy dog.\".replace(\"dog\", \"cat\")\n",
    "replaced_text"
   ]
  },
  {
   "cell_type": "markdown",
   "id": "872eb73b-c974-4f84-b390-2ae2e41a3103",
   "metadata": {},
   "source": [
    "# Q7"
   ]
  },
  {
   "cell_type": "code",
   "execution_count": 12,
   "id": "1c99298d-b1a5-437f-b9b8-b68ddf63fab8",
   "metadata": {},
   "outputs": [
    {
     "data": {
      "text/plain": [
       "['apple', 'banana', 'orange']"
      ]
     },
     "execution_count": 12,
     "metadata": {},
     "output_type": "execute_result"
    }
   ],
   "source": [
    "fruits_list = \"apple,banana,orange\".split(\",\")\n",
    "fruits_list"
   ]
  },
  {
   "cell_type": "markdown",
   "id": "30925510-7768-4bb4-8e04-68be7d015de4",
   "metadata": {},
   "source": [
    "# Q8"
   ]
  },
  {
   "cell_type": "code",
   "execution_count": 14,
   "id": "babbd399-38ea-41e7-bddb-b485eca6e1d5",
   "metadata": {},
   "outputs": [
    {
     "data": {
      "text/plain": [
       "'My name is Alice and I am 25 years old.'"
      ]
     },
     "execution_count": 14,
     "metadata": {},
     "output_type": "execute_result"
    }
   ],
   "source": [
    "name = \"Alice\"\n",
    "age = 25\n",
    "sentence = f\"My name is {name} and I am {age} years old.\"\n",
    "sentence"
   ]
  },
  {
   "cell_type": "markdown",
   "id": "0dda92ed-42ab-4e00-b4ca-6e93343b2865",
   "metadata": {},
   "source": [
    "# Q9"
   ]
  },
  {
   "cell_type": "code",
   "execution_count": 16,
   "id": "1161a7ec-d84e-41e1-b168-1ad3f6d72934",
   "metadata": {},
   "outputs": [
    {
     "data": {
      "text/plain": [
       "True"
      ]
     },
     "execution_count": 16,
     "metadata": {},
     "output_type": "execute_result"
    }
   ],
   "source": [
    "is_present = \"python\" in \"I love python programming\"\n",
    "is_present"
   ]
  },
  {
   "cell_type": "markdown",
   "id": "127787af-c842-41cc-99c0-1434e6fd3f43",
   "metadata": {},
   "source": [
    "# Q10"
   ]
  },
  {
   "cell_type": "code",
   "execution_count": 17,
   "id": "fed6c972-6091-454f-8a8b-60ab4f3cbf7b",
   "metadata": {},
   "outputs": [
    {
     "data": {
      "text/plain": [
       "3"
      ]
     },
     "execution_count": 17,
     "metadata": {},
     "output_type": "execute_result"
    }
   ],
   "source": [
    "e_count = \"Elephant is an elegant animal\".count(\"e\")\n",
    "e_count"
   ]
  },
  {
   "cell_type": "markdown",
   "id": "5d770a01-355a-4459-9726-2b2aefd4e4f0",
   "metadata": {},
   "source": [
    "# Q11"
   ]
  },
  {
   "cell_type": "code",
   "execution_count": 18,
   "id": "50da8a7f-d290-4c1b-b295-5980a7486884",
   "metadata": {},
   "outputs": [
    {
     "data": {
      "text/plain": [
       "'Data Science'"
      ]
     },
     "execution_count": 18,
     "metadata": {},
     "output_type": "execute_result"
    }
   ],
   "source": [
    "cleaned_text = \"   Data Science   \".strip()\n",
    "cleaned_text"
   ]
  },
  {
   "cell_type": "markdown",
   "id": "65b951fa-7f28-4613-acd7-6fb0277a88cd",
   "metadata": {},
   "source": [
    "# Q12"
   ]
  },
  {
   "cell_type": "code",
   "execution_count": 19,
   "id": "c8a3162b-7869-46fc-9884-e3fd07d7f752",
   "metadata": {},
   "outputs": [
    {
     "data": {
      "text/plain": [
       "100"
      ]
     },
     "execution_count": 19,
     "metadata": {},
     "output_type": "execute_result"
    }
   ],
   "source": [
    "int_value = int(\"100\")\n",
    "int_value"
   ]
  },
  {
   "cell_type": "markdown",
   "id": "906413ee-006b-4449-84e1-5f842bb876b4",
   "metadata": {},
   "source": [
    "# Q13"
   ]
  },
  {
   "cell_type": "code",
   "execution_count": 20,
   "id": "f6b10e67-99ea-4351-89b8-76f740b7ceca",
   "metadata": {},
   "outputs": [
    {
     "data": {
      "text/plain": [
       "'pro'"
      ]
     },
     "execution_count": 20,
     "metadata": {},
     "output_type": "execute_result"
    }
   ],
   "source": [
    "substring = \"programming\"[0:3]  # or \"programming\"[:3]\n",
    "substring"
   ]
  },
  {
   "cell_type": "markdown",
   "id": "2a7bc82e-bb10-4db6-8484-7a90491b042c",
   "metadata": {},
   "source": [
    "# Q14"
   ]
  },
  {
   "cell_type": "code",
   "execution_count": 23,
   "id": "60a6caa5-8449-4d7d-80bd-f9994f9a58e3",
   "metadata": {},
   "outputs": [
    {
     "data": {
      "text/plain": [
       "(True, True)"
      ]
     },
     "execution_count": 23,
     "metadata": {},
     "output_type": "execute_result"
    }
   ],
   "source": [
    "starts = \"data\".startswith(\"da\")\n",
    "ends = \"data\".endswith(\"ta\")\n",
    "ends,starts"
   ]
  },
  {
   "cell_type": "markdown",
   "id": "6f03da97-bba7-427c-a727-be09763f9d05",
   "metadata": {},
   "source": [
    "# Q15"
   ]
  },
  {
   "cell_type": "code",
   "execution_count": 24,
   "id": "cb703187-f581-4805-bdb1-115e5bf16985",
   "metadata": {},
   "outputs": [
    {
     "data": {
      "text/plain": [
       "'gninrael enihcam'"
      ]
     },
     "execution_count": 24,
     "metadata": {},
     "output_type": "execute_result"
    }
   ],
   "source": [
    "reversed_text = \"machine learning\"[::-1]\n",
    "reversed_text"
   ]
  },
  {
   "cell_type": "markdown",
   "id": "90da46ef-8e32-4e26-afa8-db5b441e4b98",
   "metadata": {},
   "source": [
    "# Q16"
   ]
  },
  {
   "cell_type": "code",
   "execution_count": 25,
   "id": "41acfabc-d1cc-454d-875b-2e50518c2808",
   "metadata": {},
   "outputs": [
    {
     "data": {
      "text/plain": [
       "'Machine Learning Is Fun'"
      ]
     },
     "execution_count": 25,
     "metadata": {},
     "output_type": "execute_result"
    }
   ],
   "source": [
    "title_text = \"machine learning is fun\".title()\n",
    "title_text"
   ]
  },
  {
   "cell_type": "markdown",
   "id": "964473ab-d8b5-40d5-a6ef-8cd21ec0b314",
   "metadata": {},
   "source": [
    "# Q17"
   ]
  },
  {
   "cell_type": "code",
   "execution_count": 29,
   "id": "6ec29bed-96c3-46fc-af4f-1483ab08836b",
   "metadata": {},
   "outputs": [
    {
     "data": {
      "text/plain": [
       "'Roses are red,\\nViolets are blue,\\nPython is sweet,\\nAnd so are you.'"
      ]
     },
     "execution_count": 29,
     "metadata": {},
     "output_type": "execute_result"
    }
   ],
   "source": [
    "poem = \"\"\"Roses are red,\n",
    "Violets are blue,\n",
    "Python is sweet,\n",
    "And so are you.\"\"\"\n",
    "\n",
    "poem"
   ]
  },
  {
   "cell_type": "markdown",
   "id": "739e255f-2db2-42ce-87b9-e43f929c620e",
   "metadata": {},
   "source": [
    "# Q18"
   ]
  },
  {
   "cell_type": "code",
   "execution_count": 130,
   "id": "9439c8ef-1171-4445-9dc4-a17361c146a1",
   "metadata": {},
   "outputs": [],
   "source": [
    "with open(\"output.txt\", \"w\") as file:\n",
    "    file.write(\"This is a string written to the file.\")"
   ]
  },
  {
   "cell_type": "markdown",
   "id": "14a509ed-d970-48db-b593-d9f347d12b84",
   "metadata": {},
   "source": [
    "# Q19"
   ]
  },
  {
   "cell_type": "code",
   "execution_count": 128,
   "id": "b975612e-676a-4e50-b992-400e21639b73",
   "metadata": {},
   "outputs": [
    {
     "name": "stdout",
     "output_type": "stream",
     "text": [
      "Default line 1\n",
      "Default line 2\n"
     ]
    }
   ],
   "source": [
    "import os\n",
    "with open(\"data.txt\", \"r\") as file:\n",
    "    for line in file:\n",
    "        print(line.strip())\n"
   ]
  },
  {
   "cell_type": "markdown",
   "id": "4b534b40-d411-4d88-b23a-1a38e01150c4",
   "metadata": {},
   "source": [
    "# Q20"
   ]
  },
  {
   "cell_type": "code",
   "execution_count": 131,
   "id": "c6dc6d6e-0895-4787-a31e-578e311155d1",
   "metadata": {},
   "outputs": [
    {
     "name": "stdout",
     "output_type": "stream",
     "text": [
      "File 'example.txt' does not exist.\n"
     ]
    }
   ],
   "source": [
    "if os.path.exists(\"example.txt\"):\n",
    "    with open(\"example.txt\", \"r\") as file:\n",
    "        print(file.read())\n",
    "else:\n",
    "    print(\"File 'example.txt' does not exist.\")"
   ]
  },
  {
   "cell_type": "markdown",
   "id": "85623413-4fdf-4823-a026-35b98ce79bb9",
   "metadata": {},
   "source": [
    "# Q21"
   ]
  },
  {
   "cell_type": "code",
   "execution_count": 41,
   "id": "492e4057-42ad-419d-a3cd-ea1b0c86296a",
   "metadata": {},
   "outputs": [],
   "source": [
    "with open(\"notes.txt\", \"a\") as file:\n",
    "    file.write(\"This is a new line\\n\")\n"
   ]
  },
  {
   "cell_type": "code",
   "execution_count": null,
   "id": "d895bd3b-8041-4647-91a9-3d734f2f521e",
   "metadata": {},
   "outputs": [],
   "source": []
  },
  {
   "cell_type": "markdown",
   "id": "35ae7757-201f-45bf-8e8d-e9feb1c98d17",
   "metadata": {},
   "source": [
    "# Q22"
   ]
  },
  {
   "cell_type": "code",
   "execution_count": 49,
   "id": "8f0765c7-d1d8-487a-9fe4-29f21267f68e",
   "metadata": {},
   "outputs": [
    {
     "name": "stdout",
     "output_type": "stream",
     "text": [
      "Log lines: ['First error occurred here.\\n', 'Second error detected.\\n']\n",
      "['First error occurred here.\\n', 'Second error detected.\\n']\n"
     ]
    }
   ],
   "source": [
    "import os\n",
    "\n",
    "filename = \"log.txt\"\n",
    "\n",
    "# Step 1: Create the file if it doesn't exist\n",
    "if not os.path.exists(filename):\n",
    "    with open(filename, \"w\") as file:\n",
    "        file.write(\"First error occurred here.\\nSecond error detected.\\n\")\n",
    "\n",
    "# Step 2: Now read the contents into a list\n",
    "with open(filename, \"r\") as file:\n",
    "    log_lines = file.readlines()\n",
    "\n",
    "# Display result\n",
    "print(\"Log lines:\", log_lines)\n",
    "\n",
    "with open(\"log.txt\", \"r\") as file:\n",
    "    log_lines = file.readlines()\n",
    "\n",
    "print(log_lines)\n",
    "\n"
   ]
  },
  {
   "cell_type": "markdown",
   "id": "6446445e-d409-4559-bcfb-28329abbfcf8",
   "metadata": {},
   "source": [
    "# Q23"
   ]
  },
  {
   "cell_type": "code",
   "execution_count": 58,
   "id": "d5d605a0-9cc6-4e70-9a6e-abec44728a3e",
   "metadata": {},
   "outputs": [
    {
     "name": "stdout",
     "output_type": "stream",
     "text": [
      "writen to report.txt\n"
     ]
    }
   ],
   "source": [
    "with open(\"report.txt\", \"w\") as file:\n",
    "    file.write(\"Data analysis report\")\n",
    "print('writen to report.txt')"
   ]
  },
  {
   "cell_type": "markdown",
   "id": "41a81ea1-a50b-471a-ab14-c7cce09017a3",
   "metadata": {},
   "source": [
    "# Q24"
   ]
  },
  {
   "cell_type": "code",
   "execution_count": 66,
   "id": "932ea15f-6a08-4f81-ad21-b8b5644876bc",
   "metadata": {},
   "outputs": [],
   "source": [
    "with open(\"log.txt\", \"r\") as file:\n",
    "    content = file.read()\n",
    "\n",
    "content = content.replace(\"error\", \"issue\")\n",
    "\n",
    "with open(\"log.txt\", \"w\") as file:\n",
    "    file.write(content)"
   ]
  },
  {
   "cell_type": "markdown",
   "id": "bbddd886-8c08-43e4-9972-7754e2e0f103",
   "metadata": {},
   "source": [
    "# Q25"
   ]
  },
  {
   "cell_type": "code",
   "execution_count": 67,
   "id": "169e961a-4a89-46b9-bb5b-cab1c4810cd1",
   "metadata": {},
   "outputs": [
    {
     "name": "stdout",
     "output_type": "stream",
     "text": [
      "Total words: 9\n"
     ]
    }
   ],
   "source": [
    "with open(\"document.txt\", \"r\") as file:\n",
    "    words = file.read().split()\n",
    "    print(f\"Total words: {len(words)}\")\n"
   ]
  },
  {
   "cell_type": "markdown",
   "id": "ec42ffbc-bc8d-4fc3-8d54-2bf398bd201d",
   "metadata": {},
   "source": [
    "# Q26"
   ]
  },
  {
   "cell_type": "code",
   "execution_count": 72,
   "id": "6be8ed5c-97b3-42ad-99a8-b920620dfc69",
   "metadata": {},
   "outputs": [
    {
     "name": "stdout",
     "output_type": "stream",
     "text": [
      "Lines: 1\n",
      "Words: 10\n",
      "Characters: 66\n"
     ]
    }
   ],
   "source": [
    "with open(r\"C:\\Users\\HP\\Downloads\\denyse\\TekHer-Python-Basics\\data\\essay.txt\", \"r\") as file:\n",
    "    text = file.read()\n",
    "    lines = text.splitlines()\n",
    "    words = text.split()\n",
    "    print(f\"Lines: {len(lines)}\")\n",
    "    print(f\"Words: {len(words)}\")\n",
    "    print(f\"Characters: {len(text)}\")\n"
   ]
  },
  {
   "cell_type": "markdown",
   "id": "bda9003f-6b93-4429-8655-58e5ad2b42fd",
   "metadata": {},
   "source": [
    "# Q27"
   ]
  },
  {
   "cell_type": "code",
   "execution_count": 74,
   "id": "c49319ff-1a7a-4746-befd-a032ea75eb80",
   "metadata": {},
   "outputs": [],
   "source": [
    "with open(r\"C:\\Users\\HP\\Downloads\\denyse\\TekHer-Python-Basics\\data\\source.txt\", \"r\") as src, open(r\"C:\\Users\\HP\\Downloads\\denyse\\TekHer-Python-Basics\\data\\destination.txt\", \"w\") as dest:\n",
    "    dest.write(src.read())\n"
   ]
  },
  {
   "cell_type": "markdown",
   "id": "7ba435b9-c776-44c5-bfff-773718d02eb5",
   "metadata": {},
   "source": [
    "# Q28"
   ]
  },
  {
   "cell_type": "code",
   "execution_count": 76,
   "id": "b21df83d-aaaf-4d93-831b-91d04581cc28",
   "metadata": {},
   "outputs": [],
   "source": [
    "def count_lines(filename):\n",
    "    with open(filename, \"r\") as file:\n",
    "        return len(file.readlines())\n"
   ]
  },
  {
   "cell_type": "markdown",
   "id": "748d8fad-e614-4174-9a46-5e2817f1b38b",
   "metadata": {},
   "source": [
    "# Q29"
   ]
  },
  {
   "cell_type": "code",
   "execution_count": 78,
   "id": "c58080bf-254f-4140-829f-754cb2c9405f",
   "metadata": {},
   "outputs": [
    {
     "name": "stdout",
     "output_type": "stream",
     "text": [
      "['sample', 'article', 'applications.', 'multiple', 'lines.']\n"
     ]
    }
   ],
   "source": [
    "with open(r\"C:\\Users\\HP\\Downloads\\denyse\\TekHer-Python-Basics\\data\\article.txt\", \"r\") as file:\n",
    "    words = file.read().split()\n",
    "    long_words = [word for word in words if len(word) > 5]\n",
    "    print(long_words)\n"
   ]
  },
  {
   "cell_type": "markdown",
   "id": "00eab38d-337f-4617-a5e6-22db8404569f",
   "metadata": {},
   "source": [
    "# Q30"
   ]
  },
  {
   "cell_type": "code",
   "execution_count": 132,
   "id": "9f73cf69-738b-4a8e-b544-60de06649488",
   "metadata": {},
   "outputs": [],
   "source": [
    "with open(r\"C:\\Users\\HP\\Downloads\\denyse\\TekHer-Python-Basics\\data\\notes.txt\", \"r\") as file:\n",
    "    content = file.read().upper()\n",
    "\n",
    "with open(\"uppercase_notes.txt\", \"w\") as file:\n",
    "    file.write(content)\n"
   ]
  },
  {
   "cell_type": "markdown",
   "id": "7c389f2d-ac52-422e-b560-2d390617666c",
   "metadata": {},
   "source": [
    "# Q31"
   ]
  },
  {
   "cell_type": "code",
   "execution_count": 145,
   "id": "06205785-8896-4b71-982e-c832d84c10e2",
   "metadata": {},
   "outputs": [
    {
     "name": "stdout",
     "output_type": "stream",
     "text": [
      "Error: 'input.txt' not found.\n"
     ]
    }
   ],
   "source": [
    "import os\n",
    "\n",
    "def remove_empty_lines(input_file, output_file):\n",
    "    if not os.path.exists(input_file):\n",
    "        print(f\"Error: '{input_file}' not found.\")\n",
    "        return\n",
    "\n",
    "    with open(input_file, 'r') as infile:\n",
    "        lines = infile.readlines()\n",
    "\n",
    "    non_empty_lines = [line for line in lines if line.strip() != \"\"]\n",
    "\n",
    "    with open(output_file, 'w') as outfile:\n",
    "        outfile.writelines(non_empty_lines)\n",
    "\n",
    "# Example usage\n",
    "input_path = 'input.txt'  # Change this to your actual file path\n",
    "output_path = 'output.txt'\n",
    "remove_empty_lines(input_path, output_path)\n",
    "\n"
   ]
  },
  {
   "cell_type": "markdown",
   "id": "1f1cb490-20f8-44d8-adec-4f6e86415c8d",
   "metadata": {},
   "source": [
    "# Q32"
   ]
  },
  {
   "cell_type": "code",
   "execution_count": 89,
   "id": "23b3d360-fd85-427e-ae93-34ddfe689a64",
   "metadata": {},
   "outputs": [
    {
     "name": "stdout",
     "output_type": "stream",
     "text": [
      "setting1=true\n",
      "setting2=false\n",
      "threshold=0.8\n",
      "\n"
     ]
    }
   ],
   "source": [
    "with open(r\"C:\\Users\\HP\\Downloads\\denyse\\TekHer-Python-Basics\\data\\config.txt\", \"r+\") as file:\n",
    "    data = file.read()\n",
    "    print(data)\n"
   ]
  },
  {
   "cell_type": "markdown",
   "id": "58e483a1-87bb-423a-92fd-390289a0a1a2",
   "metadata": {},
   "source": [
    "# Q33"
   ]
  },
  {
   "cell_type": "code",
   "execution_count": 90,
   "id": "a4712e25-251d-48ae-95b0-8371021b47f2",
   "metadata": {},
   "outputs": [],
   "source": [
    "def print_longest_line(filename):\n",
    "    with open(filename, \"r\") as file:\n",
    "        lines = file.readlines()\n",
    "        longest = max(lines, key=len)\n",
    "        print(r\"C:\\Users\\HP\\Downloads\\denyse\\TekHer-Python-Basics\\data\\Longest line:\", longest)\n"
   ]
  },
  {
   "cell_type": "markdown",
   "id": "7d042777-6977-406e-b490-3132c2cdf80e",
   "metadata": {},
   "source": [
    "# Q34"
   ]
  },
  {
   "cell_type": "code",
   "execution_count": 91,
   "id": "c79e5def-b60d-4b36-a602-045c0def1d08",
   "metadata": {},
   "outputs": [
    {
     "name": "stdout",
     "output_type": "stream",
     "text": [
      "Counter({'e': 6, 's': 4, 'h': 3, 'l': 3, 'i': 3, 't': 2, 'a': 2, 'o': 1, 'r': 1, 'm': 1, 'g': 1, 'f': 1})\n"
     ]
    }
   ],
   "source": [
    "from collections import Counter\n",
    "import string\n",
    "\n",
    "with open(r\"C:\\Users\\HP\\Downloads\\denyse\\TekHer-Python-Basics\\data\\message.txt\", \"r\") as file:\n",
    "    text = file.read().lower()\n",
    "    letters = [char for char in text if char in string.ascii_lowercase]\n",
    "    freq = Counter(letters)\n",
    "    print(freq)\n"
   ]
  },
  {
   "cell_type": "markdown",
   "id": "4ba89e28-386e-4819-be46-3dcfa33e999d",
   "metadata": {},
   "source": [
    "# Q35"
   ]
  },
  {
   "cell_type": "code",
   "execution_count": 124,
   "id": "3e792d69-8233-4b31-a2dc-1a1e757bf133",
   "metadata": {},
   "outputs": [
    {
     "name": "stdout",
     "output_type": "stream",
     "text": [
      "Characters (excluding spaces): 50\n"
     ]
    }
   ],
   "source": [
    "with open(r\"C:\\Users\\HP\\Downloads\\denyse\\TekHer-Python-Basics\\data\\notes.txt\", \"r\") as file:\n",
    "    text = file.read()\n",
    "    char_count = len(text.replace(\" \", \"\"))\n",
    "    print(f\"Characters (excluding spaces): {char_count}\")\n"
   ]
  },
  {
   "cell_type": "markdown",
   "id": "acff29ef-4815-43e4-8c06-4a046c775fa9",
   "metadata": {},
   "source": [
    "# Q36"
   ]
  },
  {
   "cell_type": "code",
   "execution_count": 93,
   "id": "49066deb-2b4b-488b-8045-08b4a50176fd",
   "metadata": {},
   "outputs": [],
   "source": [
    "import os\n",
    "\n",
    "def is_file_empty(filename):\n",
    "    return os.path.getsize(filename) == 0\n"
   ]
  },
  {
   "cell_type": "markdown",
   "id": "f3fcdedf-678a-4ae0-aa55-a0b126777528",
   "metadata": {},
   "source": [
    "# Q37"
   ]
  },
  {
   "cell_type": "code",
   "execution_count": 94,
   "id": "bd02df88-d90c-471b-bbdc-4f14f7c2f24f",
   "metadata": {},
   "outputs": [],
   "source": [
    "import string\n",
    "\n",
    "def remove_punctuation(filename):\n",
    "    with open(filename, \"r\") as file:\n",
    "        text = file.read()\n",
    "    clean_text = text.translate(str.maketrans(\"\", \"\", string.punctuation))\n",
    "    return clean_text\n"
   ]
  },
  {
   "cell_type": "markdown",
   "id": "21267227-52e3-4f74-8052-097ae2853efc",
   "metadata": {},
   "source": [
    "# Q38"
   ]
  },
  {
   "cell_type": "code",
   "execution_count": 95,
   "id": "07e2b29b-5890-4d37-a6cd-cf7bf1087ffa",
   "metadata": {},
   "outputs": [],
   "source": [
    "def write_list_to_file(strings, filename):\n",
    "    with open(filename, \"w\") as file:\n",
    "        for line in strings:\n",
    "            file.write(line + \"\\n\")\n"
   ]
  },
  {
   "cell_type": "markdown",
   "id": "72597d6b-6d2b-4a0d-b35d-aa9323ebf6c6",
   "metadata": {},
   "source": [
    "# Q39"
   ]
  },
  {
   "cell_type": "code",
   "execution_count": 96,
   "id": "cbfec1bf-eb2e-4dd2-b50d-de4c7d7eb1ed",
   "metadata": {},
   "outputs": [],
   "source": [
    "def count_lines_starting_with(filename, letter):\n",
    "    with open(filename, \"r\") as file:\n",
    "        count = sum(1 for line in file if line.startswith(letter))\n",
    "    return count\n"
   ]
  },
  {
   "cell_type": "markdown",
   "id": "813228c2-a154-4f36-bcaa-58f29375ade8",
   "metadata": {},
   "source": [
    "# Q40"
   ]
  },
  {
   "cell_type": "code",
   "execution_count": 97,
   "id": "a62831c5-072d-44b7-ac35-37c82e67fee2",
   "metadata": {},
   "outputs": [],
   "source": [
    "def write_reversed_string(text):\n",
    "    with open(r\"C:\\Users\\HP\\Downloads\\denyse\\TekHer-Python-Basics\\data\\output.txt\", \"w\") as file:\n",
    "        file.write(text[::-1])\n"
   ]
  },
  {
   "cell_type": "markdown",
   "id": "f9fc4930-bb08-47ba-977b-6772f21392de",
   "metadata": {},
   "source": [
    "# Q41"
   ]
  },
  {
   "cell_type": "code",
   "execution_count": 134,
   "id": "5a724aba-0b7d-45e8-976f-114b6bcd9097",
   "metadata": {},
   "outputs": [],
   "source": [
    "with open(\"file.txt\", \"r\") as file:\n",
    "    for line in file:\n",
    "        if \"Python\" in line:\n",
    "            print(line.strip())\n"
   ]
  },
  {
   "cell_type": "markdown",
   "id": "07dd6c87-f8ab-4af8-9820-17597ffbc84e",
   "metadata": {},
   "source": [
    "# Q42"
   ]
  },
  {
   "cell_type": "code",
   "execution_count": 135,
   "id": "f750c504-4aac-4bb2-b008-ad48e8ded75f",
   "metadata": {},
   "outputs": [],
   "source": [
    "with open(\"file.txt\", \"r\") as file:\n",
    "    content = file.read()\n",
    "\n",
    "cleaned_content = ''.join(char for char in content if not char.isdigit())\n",
    "\n",
    "with open(\"file.txt\", \"w\") as file:\n",
    "    file.write(cleaned_content)\n",
    "\n"
   ]
  },
  {
   "cell_type": "markdown",
   "id": "7d957e14-df4d-473e-a661-6c663bc363e0",
   "metadata": {},
   "source": [
    "# Q43"
   ]
  },
  {
   "cell_type": "code",
   "execution_count": 105,
   "id": "ab4d6426-3170-4c09-92b8-fae3f83e5e81",
   "metadata": {},
   "outputs": [
    {
     "name": "stdout",
     "output_type": "stream",
     "text": [
      "Most frequent word: a\n"
     ]
    }
   ],
   "source": [
    "from collections import Counter\n",
    "import re\n",
    "\n",
    "with open(\"book.txt\", \"r\") as file:\n",
    "    words = re.findall(r'\\b\\w+\\b', file.read().lower())\n",
    "\n",
    "most_common = Counter(words).most_common(1)\n",
    "\n",
    "if most_common:\n",
    "    print(\"Most frequent word:\", most_common[0][0])\n"
   ]
  },
  {
   "cell_type": "markdown",
   "id": "afea6a2b-2a9d-49bd-a4bc-a89c63670851",
   "metadata": {},
   "source": [
    "# Q44"
   ]
  },
  {
   "cell_type": "code",
   "execution_count": 136,
   "id": "d8c6cb89-9455-427e-9ef0-a3bb6901d4db",
   "metadata": {},
   "outputs": [
    {
     "name": "stdout",
     "output_type": "stream",
     "text": [
      "Java is a versatile language.\n"
     ]
    }
   ],
   "source": [
    "with open(\"file.txt\", \"r\") as file:\n",
    "    for line in file:\n",
    "        if len(line.split()) == 5:\n",
    "            print(line.strip())\n",
    "\n"
   ]
  },
  {
   "cell_type": "markdown",
   "id": "a61e041d-bcf4-409f-90fa-1a92bcf12cac",
   "metadata": {},
   "source": [
    "# Q45"
   ]
  },
  {
   "cell_type": "code",
   "execution_count": 137,
   "id": "28e00d77-be4d-4be7-9563-47fdf79f69d0",
   "metadata": {},
   "outputs": [
    {
     "name": "stdout",
     "output_type": "stream",
     "text": [
      "First line: Java is a versatile language.\n",
      "Last line: Great for data analysis.\n"
     ]
    }
   ],
   "source": [
    "with open(\"file.txt\", \"r\") as file:\n",
    "    lines = file.readlines()\n",
    "    if lines:\n",
    "        print(\"First line:\", lines[0].strip())\n",
    "        print(\"Last line:\", lines[-1].strip())\n"
   ]
  },
  {
   "cell_type": "markdown",
   "id": "23b71ab4-f71c-4b4f-9419-bcf26cec4ee3",
   "metadata": {},
   "source": [
    "# Q46"
   ]
  },
  {
   "cell_type": "code",
   "execution_count": 138,
   "id": "0ec171d4-707b-45e5-9aec-f9363d79ec0a",
   "metadata": {},
   "outputs": [
    {
     "name": "stdout",
     "output_type": "stream",
     "text": [
      "File is writable.\n"
     ]
    }
   ],
   "source": [
    "try:\n",
    "    with open(\"students.txt\", \"a\"):\n",
    "        print(\"File is writable.\")\n",
    "except IOError:\n",
    "    print(\"File is not writable.\")\n",
    "\n"
   ]
  },
  {
   "cell_type": "markdown",
   "id": "ac294c58-b504-4195-8082-870c566bf3f1",
   "metadata": {},
   "source": [
    "# Q47"
   ]
  },
  {
   "cell_type": "code",
   "execution_count": 139,
   "id": "e4fd48fe-56a2-4ccb-80c0-ac0507673abd",
   "metadata": {},
   "outputs": [],
   "source": [
    "def count_unique_words(filename):\n",
    "    with open(filename, \"r\") as file:\n",
    "        words = set(file.read().lower().split())\n",
    "    return len(words)\n",
    "\n",
    "# Example usage:\n",
    "# print(count_unique_words(\"file.txt\"))\n"
   ]
  },
  {
   "cell_type": "markdown",
   "id": "b79321ae-3395-45ec-a017-08d48ac77744",
   "metadata": {},
   "source": [
    "# Q48"
   ]
  },
  {
   "cell_type": "code",
   "execution_count": 140,
   "id": "7da9c2f4-fae8-485e-897d-3aa69fbc7f7f",
   "metadata": {},
   "outputs": [
    {
     "name": "stdout",
     "output_type": "stream",
     "text": [
      "Great for data analysis.\n",
      "Java is a versatile language.\n"
     ]
    }
   ],
   "source": [
    "with open(\"file.txt\", \"r\") as file:\n",
    "    for line in reversed(file.readlines()):\n",
    "        print(line.strip())\n",
    "\n"
   ]
  },
  {
   "cell_type": "markdown",
   "id": "ec1df5fd-37ba-4372-b050-1ec53638c91f",
   "metadata": {},
   "source": [
    "# Q49"
   ]
  },
  {
   "cell_type": "code",
   "execution_count": 142,
   "id": "663439b8-1064-43a6-8c0f-621f03774849",
   "metadata": {},
   "outputs": [],
   "source": [
    "from collections import Counter\n",
    "import string\n",
    "\n",
    "def most_common_letter(filename):\n",
    "    with open(filename, \"r\") as file:\n",
    "        text = file.read().lower()\n",
    "        letters = [char for char in text if char in string.ascii_lowercase]\n",
    "        return Counter(letters).most_common(1)[0][0]\n",
    "\n",
    "# Example usage:\n",
    "# print(most_common_letter(\"file.txt\"))\n"
   ]
  },
  {
   "cell_type": "markdown",
   "id": "87e57fdf-9ff5-4851-becb-1c90b10782fc",
   "metadata": {},
   "source": [
    "# Q50"
   ]
  },
  {
   "cell_type": "code",
   "execution_count": 143,
   "id": "7b991194-105c-4e71-899b-0b15e2013a0f",
   "metadata": {},
   "outputs": [],
   "source": [
    "with open(\"file.txt\", \"r\") as file:\n",
    "    content = file.read()\n",
    "\n",
    "content = content.replace(\"Python\", \"Java\")\n",
    "\n",
    "with open(\"file.txt\", \"w\") as file:\n",
    "    file.write(content)\n"
   ]
  },
  {
   "cell_type": "code",
   "execution_count": null,
   "id": "f03aa968-f8c7-48e8-b986-79f34ad26d46",
   "metadata": {},
   "outputs": [],
   "source": []
  }
 ],
 "metadata": {
  "kernelspec": {
   "display_name": "Python 3 (ipykernel)",
   "language": "python",
   "name": "python3"
  },
  "language_info": {
   "codemirror_mode": {
    "name": "ipython",
    "version": 3
   },
   "file_extension": ".py",
   "mimetype": "text/x-python",
   "name": "python",
   "nbconvert_exporter": "python",
   "pygments_lexer": "ipython3",
   "version": "3.11.7"
  }
 },
 "nbformat": 4,
 "nbformat_minor": 5
}
